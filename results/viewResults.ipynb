{
 "cells": [
  {
   "cell_type": "markdown",
   "metadata": {},
   "source": [
    "# Analysis and Informal Plotting of Mouse Tracking Data\n",
    "\n",
    "Before doing any of the Python snippets below, must first use `process.py` to parse raw data and generate a number of data files: \n",
    "- `processed.csv`, which contains the summary statistics\n",
    "- `nx.csv`, `ny.csv`, `rx.csv`, and `rx.csv`, which contain the actual processed mouse trajectorie\n",
    "\n",
    "\n"
   ]
  },
  {
   "cell_type": "code",
   "execution_count": 1,
   "metadata": {
    "collapsed": false
   },
   "outputs": [
    {
     "name": "stderr",
     "output_type": "stream",
     "text": [
      "/usr/local/lib/python2.7/site-packages/matplotlib/font_manager.py:273: UserWarning: Matplotlib is building the font cache using fc-list. This may take a moment.\n",
      "  warnings.warn('Matplotlib is building the font cache using fc-list. This may take a moment.')\n"
     ]
    }
   ],
   "source": [
    "import os \n",
    "import glob\n",
    "\n",
    "import numpy as np # Numeric calculation\n",
    "import pandas as pd # General purpose data analysis library\n",
    "import squeak # For mouse data\n",
    "\n",
    "# For plotting\n",
    "import matplotlib.pyplot as plt \n",
    "%matplotlib inline\n",
    "# Prettier default settings for plots (optional)\n",
    "import seaborn\n",
    "seaborn.set_style('white')\n",
    "from pylab import rcParams\n",
    "rcParams['figure.figsize'] = 8, 6"
   ]
  },
  {
   "cell_type": "code",
   "execution_count": 2,
   "metadata": {
    "collapsed": false
   },
   "outputs": [],
   "source": [
    "data = pd.read_csv('processed.csv') # import data from preprocessed CSV files\n",
    "nx = pd.read_csv('nx.csv')\n",
    "ny = pd.read_csv('ny.csv')\n",
    "rx = pd.read_csv('rx.csv')\n",
    "ry = pd.read_csv('ry.csv')"
   ]
  },
  {
   "cell_type": "code",
   "execution_count": 3,
   "metadata": {
    "collapsed": false
   },
   "outputs": [],
   "source": [
    "dataCorrect=data.loc[data['accuracy']==1] # include only correct trials\n"
   ]
  },
  {
   "cell_type": "code",
   "execution_count": 4,
   "metadata": {
    "collapsed": false
   },
   "outputs": [
    {
     "name": "stderr",
     "output_type": "stream",
     "text": [
      "/usr/local/lib/python2.7/site-packages/pandas/core/generic.py:2701: SettingWithCopyWarning: \n",
      "A value is trying to be set on a copy of a slice from a DataFrame.\n",
      "Try using .loc[row_indexer,col_indexer] = value instead\n",
      "\n",
      "See the caveats in the documentation: http://pandas.pydata.org/pandas-docs/stable/indexing.html#indexing-view-versus-copy\n",
      "  self[name] = value\n"
     ]
    },
    {
     "data": {
      "text/plain": [
       "0.99775"
      ]
     },
     "execution_count": 4,
     "metadata": {},
     "output_type": "execute_result"
    }
   ],
   "source": [
    "dataCorrect.rt=dataCorrect['rt'].astype(float) # convert some RTs to floats (not sure why this is occurring)  ignore the error that it throws\n",
    "float(len(dataCorrect))/float(len(data)) # accuracy"
   ]
  },
  {
   "cell_type": "markdown",
   "metadata": {},
   "source": [
    "After subsetting on the correct trials, we can use the '.groupby()' function in Python to generate tables of means and SDs"
   ]
  },
  {
   "cell_type": "code",
   "execution_count": 5,
   "metadata": {
    "collapsed": false
   },
   "outputs": [
    {
     "name": "stdout",
     "output_type": "stream",
     "text": [
      "                     rt   init_time\n",
      "congruity                          \n",
      "congruent    897.621432  302.023035\n",
      "incongruent  988.734704  311.163490\n"
     ]
    }
   ],
   "source": [
    "# tables of means (USE THIS!!!)\n",
    "print dataCorrect.groupby(['congruity'])['rt','init_time'].mean()"
   ]
  },
  {
   "cell_type": "code",
   "execution_count": 6,
   "metadata": {
    "collapsed": false
   },
   "outputs": [
    {
     "name": "stdout",
     "output_type": "stream",
     "text": [
      "                     rt   init_time\n",
      "congruity                          \n",
      "congruent    237.267506  119.480814\n",
      "incongruent  274.819102  140.097989\n"
     ]
    }
   ],
   "source": [
    "# tables of Standard Deviations (DON'T USE THIS!!!)\n",
    "print dataCorrect.groupby(['congruity'])['rt','init_time'].std()"
   ]
  },
  {
   "cell_type": "code",
   "execution_count": 7,
   "metadata": {
    "collapsed": false
   },
   "outputs": [
    {
     "data": {
      "image/png": "[encoded data removed]",
      "text/plain": [
       "<matplotlib.figure.Figure at 0x103964190>"
      ]
     },
     "metadata": {},
     "output_type": "display_data"
    }
   ],
   "source": [
    "plt.hist(data.md, bins=15)\n",
    "plt.xlabel(\"Maximum Deviation\")\n",
    "plt.ylabel(\"N\")\n",
    "plt.show()"
   ]
  },
  {
   "cell_type": "code",
   "execution_count": 8,
   "metadata": {
    "collapsed": false
   },
   "outputs": [
    {
     "data": {
      "image/png": "[encoded data removed]",
      "text/plain": [
       "<matplotlib.figure.Figure at 0x10744eed0>"
      ]
     },
     "metadata": {},
     "output_type": "display_data"
    }
   ],
   "source": [
    "plt.hist(data.auc, bins=15)\n",
    "plt.xlabel(\"Area Under Curve\")\n",
    "plt.ylabel(\"N\")\n",
    "plt.show()"
   ]
  },
  {
   "cell_type": "code",
   "execution_count": 9,
   "metadata": {
    "collapsed": false
   },
   "outputs": [
    {
     "name": "stdout",
     "output_type": "stream",
     "text": [
      "                   md       auc    xflips\n",
      "congruity                                \n",
      "congruent    0.069435  0.069093  0.079619\n",
      "incongruent  0.384051  0.339822  0.244233\n"
     ]
    }
   ],
   "source": [
    "print dataCorrect.groupby(['congruity'])['md','auc','xflips'].mean()"
   ]
  },
  {
   "cell_type": "code",
   "execution_count": 10,
   "metadata": {
    "collapsed": false
   },
   "outputs": [
    {
     "name": "stdout",
     "output_type": "stream",
     "text": [
      "                   md       auc    xflips\n",
      "congruity                                \n",
      "congruent    0.340653  0.316941  0.319961\n",
      "incongruent  0.474903  0.431569  0.528210\n"
     ]
    }
   ],
   "source": [
    "print dataCorrect.groupby(['congruity'])['md','auc','xflips'].std()"
   ]
  },
  {
   "cell_type": "code",
   "execution_count": 11,
   "metadata": {
    "collapsed": false
   },
   "outputs": [
    {
     "data": {
      "image/png": "[encoded data removed]",
      "text/plain": [
       "<matplotlib.figure.Figure at 0x10a6f8250>"
      ]
     },
     "metadata": {},
     "output_type": "display_data"
    }
   ],
   "source": [
    "# Plot average *rightward* trajectories by congruity\n",
    "dataRight=dataCorrect.loc[dataCorrect['response']==2] # plot ALL trials\n",
    "\n",
    "\n",
    "congruentRight_indices = dataRight[dataRight.congruity=='congruent'].index\n",
    "incongruentRight_indices = dataRight[dataRight.congruity=='incongruent'].index\n",
    "\n",
    "congruentRightX = nx.iloc[congruentRight_indices].mean()\n",
    "congruentRightY = ny.iloc[congruentRight_indices].mean()\n",
    "\n",
    "incongruentRightX = nx.iloc[incongruentRight_indices].mean()\n",
    "incongruentRightY = ny.iloc[incongruentRight_indices].mean()\n",
    "\n",
    "\n",
    "\n",
    "plt.plot(congruentRightX, congruentRightY, '-o', color='blue', label='congruent trials')\n",
    "plt.plot(incongruentRightX, incongruentRightY, '-o', color='red', label='incongruent trials')\n",
    "plt.legend(loc=\"lower right\")\n",
    "plt.title(\"Rightward trajectories\")\n",
    "plt.xlim((-1.05, 1.05))\n",
    "plt.ylim((-.05, 1.55))\n",
    "plt.show()"
   ]
  },
  {
   "cell_type": "code",
   "execution_count": 12,
   "metadata": {
    "collapsed": false
   },
   "outputs": [
    {
     "data": {
      "image/png": "[encoded data removed]",
      "text/plain": [
       "<matplotlib.figure.Figure at 0x10abe6750>"
      ]
     },
     "metadata": {},
     "output_type": "display_data"
    }
   ],
   "source": [
    "# Plot average *leftward* trajectories by congruity\n",
    "dataLeft=dataCorrect.loc[dataCorrect['response']==1] # plot ALL trials\n",
    "\n",
    "\n",
    "congruentLeft_indices = dataLeft[dataLeft.congruity=='congruent'].index\n",
    "incongruentLeft_indices = dataLeft[dataLeft.congruity=='incongruent'].index\n",
    "\n",
    "congruentLeftX = -nx.iloc[congruentLeft_indices].mean() # reverse trajectories to undo remapping\n",
    "congruentLeftY = ny.iloc[congruentLeft_indices].mean()\n",
    "\n",
    "incongruentLeftX = -nx.iloc[incongruentLeft_indices].mean() # reverse trajectories to undo remapping\n",
    "incongruentLeftY = ny.iloc[incongruentLeft_indices].mean()\n",
    "\n",
    "\n",
    "\n",
    "plt.plot(congruentLeftX, congruentLeftY, '-o', color='blue', label='congruent trials')\n",
    "plt.plot(incongruentLeftX, incongruentLeftY, '-o', color='red', label='incongruent trials')\n",
    "plt.legend(loc=\"lower right\")\n",
    "plt.title(\"Leftward trajectories\")\n",
    "plt.xlim((-1.05, 1.05))\n",
    "plt.ylim((-.05, 1.55))\n",
    "plt.show()"
   ]
  },
  {
   "cell_type": "code",
   "execution_count": null,
   "metadata": {
    "collapsed": true
   },
   "outputs": [],
   "source": []
  }
 ],
 "metadata": {
  "kernelspec": {
   "display_name": "Python 2",
   "language": "python",
   "name": "python2"
  },
  "language_info": {
   "codemirror_mode": {
    "name": "ipython",
    "version": 2
   },
   "file_extension": ".py",
   "mimetype": "text/x-python",
   "name": "python",
   "nbconvert_exporter": "python",
   "pygments_lexer": "ipython2",
   "version": "2.7.11"
  }
 },
 "nbformat": 4,
 "nbformat_minor": 0
}
